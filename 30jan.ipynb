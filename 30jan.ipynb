{
 "cells": [
  {
   "cell_type": "code",
   "execution_count": 10,
   "id": "c7a0a5ea-f490-4577-a43d-2bcb5ce7c032",
   "metadata": {},
   "outputs": [
    {
     "name": "stdin",
     "output_type": "stream",
     "text": [
      "enter your marks 98\n"
     ]
    },
    {
     "name": "stdout",
     "output_type": "stream",
     "text": [
      "Grade A\n"
     ]
    }
   ],
   "source": [
    "marks=int(input(\"enter your marks\"))\n",
    "if marks>90:\n",
    "    print(\"Grade A\")\n",
    "elif marks>80 and marks<=90:\n",
    "    print(\"Grade B\")\n",
    "elif marks>=60 and marks<=80:\n",
    "    print(\"Grade C\")\n",
    "else:\n",
    "    print(\"Grade D\")"
   ]
  },
  {
   "cell_type": "code",
   "execution_count": 1,
   "id": "5aab20a9-1a2e-4524-8b79-bcfc8018836f",
   "metadata": {},
   "outputs": [
    {
     "name": "stdin",
     "output_type": "stream",
     "text": [
      "enter cost of bike 13000\n"
     ]
    },
    {
     "name": "stdout",
     "output_type": "stream",
     "text": [
      "tax to be paid is 5%\n"
     ]
    }
   ],
   "source": [
    "cost=int(input(\"enter cost of bike\"))\n",
    "if cost>100000:\n",
    "    print(\"tax to be paid is 15%\")\n",
    "elif cost>50000 and cost<=100000:\n",
    "    print(\"tax to be paid is 10%\")\n",
    "elif cost<=50000:\n",
    "    print(\"tax to be paid is 5%\")"
   ]
  },
  {
   "cell_type": "code",
   "execution_count": 2,
   "id": "b1ab4a2c-d20d-4823-bb29-07efc467fca8",
   "metadata": {},
   "outputs": [
    {
     "name": "stdin",
     "output_type": "stream",
     "text": [
      "enter city Delhi\n"
     ]
    },
    {
     "name": "stdout",
     "output_type": "stream",
     "text": [
      "Red Fort\n"
     ]
    }
   ],
   "source": [
    "city=input(\"enter city\")\n",
    "if city==\"Delhi\":\n",
    "     print(\"Red Fort\")\n",
    "elif city==\"Agra\":\n",
    "     print(\"Taj Mahal\")\n",
    "elif city==\"Jaipur\":\n",
    "     print(\"Jai mahal\")"
   ]
  },
  {
   "cell_type": "code",
   "execution_count": 5,
   "id": "e8cc0cd7-e5d3-4bcd-ace7-9845e0c1a55c",
   "metadata": {},
   "outputs": [
    {
     "name": "stdin",
     "output_type": "stream",
     "text": [
      "enter a num 9\n"
     ]
    },
    {
     "name": "stdout",
     "output_type": "stream",
     "text": [
      "num divided by 3 is  3.0\n"
     ]
    }
   ],
   "source": [
    "num=int(input(\"enter a num\"))\n",
    "if num<=10:\n",
    "    print(\"num divided by 3 is \",num/3)"
   ]
  },
  {
   "cell_type": "code",
   "execution_count": null,
   "id": "f2eaf497-68ad-4633-a0c8-a822d316ef87",
   "metadata": {},
   "outputs": [],
   "source": [
    "n=10\n",
    "while n>=1:\n",
    "    print(n)\n",
    "    n=n-1\n"
   ]
  },
  {
   "cell_type": "code",
   "execution_count": null,
   "id": "17e072c2-6568-46e1-b3f8-6fd7446e733d",
   "metadata": {},
   "outputs": [],
   "source": [
    "# i=7\n",
    "# j=7\n",
    "# while i<=0:\n",
    "#     while j<=i:\n",
    "#         print(\"*\")\n",
    "        \n",
    "#     print(\"\\n\")\n",
    "    "
   ]
  },
  {
   "cell_type": "markdown",
   "id": "86aa9710-a54c-443c-81cc-53714c49c991",
   "metadata": {},
   "source": [
    "while loop is used mainly used to repeat block of code for specific number of times "
   ]
  },
  {
   "cell_type": "code",
   "execution_count": null,
   "id": "0a2b4176-aea7-41ac-abad-53760d8600ef",
   "metadata": {},
   "outputs": [],
   "source": []
  },
  {
   "cell_type": "code",
   "execution_count": null,
   "id": "8dd7a0f7-e157-4b4e-8ced-62d03af2e0f9",
   "metadata": {},
   "outputs": [],
   "source": []
  },
  {
   "cell_type": "code",
   "execution_count": null,
   "id": "8604c8ae-0923-4d8a-b0d4-53dee684a4c3",
   "metadata": {},
   "outputs": [],
   "source": [
    "\n",
    "\n"
   ]
  }
 ],
 "metadata": {
  "kernelspec": {
   "display_name": "Python 3 (ipykernel)",
   "language": "python",
   "name": "python3"
  },
  "language_info": {
   "codemirror_mode": {
    "name": "ipython",
    "version": 3
   },
   "file_extension": ".py",
   "mimetype": "text/x-python",
   "name": "python",
   "nbconvert_exporter": "python",
   "pygments_lexer": "ipython3",
   "version": "3.10.8"
  }
 },
 "nbformat": 4,
 "nbformat_minor": 5
}
