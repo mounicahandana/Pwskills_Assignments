{
 "cells": [
  {
   "cell_type": "markdown",
   "id": "b9b0466d-3e4f-4206-8736-d64f30d9d489",
   "metadata": {},
   "source": [
    " 1.    Guido van developed python "
   ]
  },
  {
   "cell_type": "markdown",
   "id": "bb823592-7163-4014-b9ef-5ba6ab9c5029",
   "metadata": {},
   "source": [
    "2. pyton supports functional and procedural oriented language"
   ]
  },
  {
   "cell_type": "markdown",
   "id": "49ae0edc-ef53-4787-9f5b-1b55d478a909",
   "metadata": {},
   "source": [
    "3. python is case sensitive when dealing with identifiers"
   ]
  },
  {
   "cell_type": "markdown",
   "id": "be1f8fa6-bf27-4c79-8ad9-d46d6738e675",
   "metadata": {},
   "source": [
    "4. .py is correct extension of python file "
   ]
  },
  {
   "cell_type": "markdown",
   "id": "8f9cb3bd-d4bf-47d9-b3da-8a25fb41b60b",
   "metadata": {},
   "source": [
    "5. python code is compiled as well as interpreted"
   ]
  },
  {
   "cell_type": "markdown",
   "id": "354cf669-7b68-4a46-b542-fa1ba69281ec",
   "metadata": {},
   "source": [
    "6. a module, function body and module are the blocks used to define in python languge.."
   ]
  },
  {
   "cell_type": "markdown",
   "id": "ef1c5bec-b98b-4bcd-9768-46935af738e8",
   "metadata": {},
   "source": [
    "7. '#' is used for single line commenting"
   ]
  },
  {
   "cell_type": "markdown",
   "id": "95e9dbc9-ac76-4451-b1a8-49415af6a3de",
   "metadata": {},
   "source": [
    "8.  python_version() method is used to find the version of python .."
   ]
  },
  {
   "cell_type": "markdown",
   "id": "63d0c9ec-ab58-41a0-9daf-c4b1db9df7a3",
   "metadata": {},
   "source": [
    "9. lambda functions are anonymus functions "
   ]
  },
  {
   "cell_type": "markdown",
   "id": "63f47893-a03f-474e-a911-c9bad1e0aff1",
   "metadata": {},
   "source": [
    "10. pip stand for preferred installer program "
   ]
  },
  {
   "cell_type": "markdown",
   "id": "a1e9e41e-3cad-4aab-bf16-0c0634a912f9",
   "metadata": {},
   "source": [
    "11. few builtin functions in python are print(),input(),min(),max(),sum(),reveresed(),sorted() etc "
   ]
  },
  {
   "cell_type": "markdown",
   "id": "1a94e8a9-576d-4b8b-9f9b-48641d24ece8",
   "metadata": {},
   "source": [
    "12.  Maximum Possible Length of an Identifier in Python is 79 characters"
   ]
  },
  {
   "cell_type": "markdown",
   "id": "304d43b6-5242-4832-a146-d254e1444d18",
   "metadata": {},
   "source": [
    "13. benefits of leanrning python :\n",
    "    1. simple syntax\n",
    "    2. contains lot of libraries and packages which is used to build various machine learning models etc..\n",
    "    \n"
   ]
  },
  {
   "cell_type": "markdown",
   "id": "46094d2b-1c75-4fc5-95a1-e06a64b759c4",
   "metadata": {},
   "source": [
    "14. Memory management in Python involves the management of a private heap. A private heap is a portion of memory that is exclusive to the Python process. All Python objects and data structures are stored in the private heap."
   ]
  },
  {
   "cell_type": "markdown",
   "id": "9e12def9-1ea1-48a0-b04f-5fbdc02afe29",
   "metadata": {},
   "source": [
    "15.The complete path of python.exe can be added by:\n",
    "\n",
    "Right-clicking This PC and going to Properties.\n",
    "\n",
    "Clicking on the Advanced system settings in the menu on the left.\n",
    "\n",
    "Clicking on the Environment Variables button o​n the bottom right.\n",
    "\n",
    "In the System variables section, selecting the Path variable and clicking on Edit. The next screen will show all the directories that are currently a part of the PATH variable.\n",
    "\n",
    "Clicking on New and entering Python’s install directory."
   ]
  },
  {
   "cell_type": "markdown",
   "id": "97fed7b2-2b4e-4de8-ba06-d38066eaaec7",
   "metadata": {},
   "source": [
    "16. yes indentation is required in python .."
   ]
  },
  {
   "cell_type": "code",
   "execution_count": null,
   "id": "e3e9a280-7ada-4335-8e25-9f6ec2897499",
   "metadata": {},
   "outputs": [],
   "source": []
  }
 ],
 "metadata": {
  "kernelspec": {
   "display_name": "Python 3 (ipykernel)",
   "language": "python",
   "name": "python3"
  },
  "language_info": {
   "codemirror_mode": {
    "name": "ipython",
    "version": 3
   },
   "file_extension": ".py",
   "mimetype": "text/x-python",
   "name": "python",
   "nbconvert_exporter": "python",
   "pygments_lexer": "ipython3",
   "version": "3.10.8"
  }
 },
 "nbformat": 4,
 "nbformat_minor": 5
}
