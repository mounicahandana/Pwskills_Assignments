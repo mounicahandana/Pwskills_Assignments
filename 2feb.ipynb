{
 "cells": [
  {
   "cell_type": "markdown",
   "id": "81d79cf7-e5b9-4618-91c4-08701a74fb3c",
   "metadata": {},
   "source": [
    "tuples are immutable and ordered"
   ]
  },
  {
   "cell_type": "markdown",
   "id": "1a00061a-82f4-4738-9eea-82cca8a2040d",
   "metadata": {},
   "source": [
    "count() and index() are two tuple methods . "
   ]
  },
  {
   "cell_type": "markdown",
   "id": "cd075c39-45f3-46b6-adbe-2cb62fc337f7",
   "metadata": {},
   "source": [
    "count() is used to get the count of specific element in tuple and index() is used to get the index of specific element\n",
    "\n",
    "Examples:"
   ]
  },
  {
   "cell_type": "code",
   "execution_count": 1,
   "id": "162ffc10-a16c-4684-bfa6-742424d7dd0b",
   "metadata": {},
   "outputs": [
    {
     "name": "stdout",
     "output_type": "stream",
     "text": [
      "2\n"
     ]
    }
   ],
   "source": [
    "#Count()\n",
    "\n",
    "t=(1,2,4,2)\n",
    "\n",
    "print(t.count(2))\n"
   ]
  },
  {
   "cell_type": "code",
   "execution_count": null,
   "id": "e17e726b-f3dd-4e37-bb43-f71250f378cc",
   "metadata": {},
   "outputs": [
    {
     "name": "stdout",
     "output_type": "stream",
     "text": [
      "1\n"
     ]
    }
   ],
   "source": [
    "#index()\n",
    "\n",
    "\n",
    "t=(1,2,4)\n",
    "\n",
    "print(t.index(2))"
   ]
  },
  {
   "cell_type": "code",
   "execution_count": 9,
   "id": "1022ff1c-d6a7-4a85-a9be-43391edeab18",
   "metadata": {},
   "outputs": [
    {
     "name": "stdout",
     "output_type": "stream",
     "text": [
      "[1, 2, 3, 4]\n"
     ]
    }
   ],
   "source": [
    "# set datatype does not allow duplicates \n",
    "\n",
    "l=[1, 1, 1, 2, 1, 3, 1, 4, 2, 1, 2, 2, 2, 3, 2, 4, 3, 1, 3, 2, 3, 3, 3, 4, 4, 1, 4, 2, 4, 3, 4, 4]\n",
    "\n",
    "\n",
    "s=list(set(l))\n",
    "\n",
    "print(s)"
   ]
  },
  {
   "cell_type": "code",
   "execution_count": 11,
   "id": "0c27b277-8572-4864-b806-035cfc492e07",
   "metadata": {},
   "outputs": [
    {
     "name": "stdout",
     "output_type": "stream",
     "text": [
      "{1, 2, 3, 4, 5}\n",
      "{1, 2, 3, 8, 9}\n"
     ]
    }
   ],
   "source": [
    "s={1,2,3}\n",
    "s2={3,4,5}\n",
    "\n",
    "#union()\n",
    "\n",
    "print(s.union(s2))\n",
    "\n",
    "#update()\n",
    "\n",
    "s.update({8,9})\n",
    "\n",
    "print(s)\n",
    "\n"
   ]
  },
  {
   "cell_type": "code",
   "execution_count": 14,
   "id": "6e1fecc7-35ee-4a00-a1b1-d62144dd8a3b",
   "metadata": {},
   "outputs": [
    {
     "name": "stdout",
     "output_type": "stream",
     "text": [
      "{'1': 'siri', '2': 'chandu'}\n"
     ]
    }
   ],
   "source": [
    "# dictionary is a datatype which is used to store values in key value format\n",
    "\n",
    "d={'1':'siri','2':\"chandu\"}\n",
    "\n",
    "print(d)\n",
    "\n",
    "# dictionary is unordered"
   ]
  },
  {
   "cell_type": "code",
   "execution_count": 15,
   "id": "622def04-f47c-4a26-a4fa-3359fb5062b5",
   "metadata": {},
   "outputs": [
    {
     "name": "stdout",
     "output_type": "stream",
     "text": [
      "{'1': {'siri', 'chandana'}, '2': {'mounica', 'tamalampudi'}}\n"
     ]
    }
   ],
   "source": [
    "# yes,we can create a nested dictionary\n",
    "\n",
    "d1={'1':{'siri','chandana'},'2':{'mounica','tamalampudi'}}\n",
    "\n",
    "print(d1)"
   ]
  },
  {
   "cell_type": "code",
   "execution_count": 24,
   "id": "369193a0-197b-44cf-87f5-4b43dce7b894",
   "metadata": {},
   "outputs": [
    {
     "name": "stdout",
     "output_type": "stream",
     "text": [
      "{'language': 'Python', 'course': 'Data Science Masters', 'topics': ['python', 'ml', 'dl']}\n"
     ]
    }
   ],
   "source": [
    "dict1 = {'language' : 'Python', 'course': 'Data Science Masters'}\n",
    "\n",
    "dict1.setdefault('topics',['python','ml','dl'])\n",
    "                           \n",
    "print(dict1)"
   ]
  },
  {
   "cell_type": "code",
   "execution_count": 26,
   "id": "b906725b-69fc-476a-ade0-d654aa258f14",
   "metadata": {},
   "outputs": [
    {
     "name": "stdout",
     "output_type": "stream",
     "text": [
      "dict_keys(['Sport', 'Teams'])\n",
      "dict_values(['Cricket', ['India', 'Australia', 'England', 'South Africa', 'Sri Lanka', 'New Zealand']])\n",
      "dict_items([('Sport', 'Cricket'), ('Teams', ['India', 'Australia', 'England', 'South Africa', 'Sri Lanka', 'New Zealand'])])\n"
     ]
    }
   ],
   "source": [
    "#three view objects in dictionary data type is keys,values and items\n",
    "\n",
    "dict1 = {'Sport': 'Cricket' , 'Teams': ['India', 'Australia', 'England', 'South Africa', 'Sri Lanka', 'New Zealand']}\n",
    "\n",
    "print(dict1.keys(),dict1.values(),dict1.items(),sep='\\n')"
   ]
  },
  {
   "cell_type": "code",
   "execution_count": null,
   "id": "9e83d216-f7d8-4ea6-b811-2dd0e482b5f7",
   "metadata": {},
   "outputs": [],
   "source": []
  }
 ],
 "metadata": {
  "kernelspec": {
   "display_name": "Python 3 (ipykernel)",
   "language": "python",
   "name": "python3"
  },
  "language_info": {
   "codemirror_mode": {
    "name": "ipython",
    "version": 3
   },
   "file_extension": ".py",
   "mimetype": "text/x-python",
   "name": "python",
   "nbconvert_exporter": "python",
   "pygments_lexer": "ipython3",
   "version": "3.10.8"
  }
 },
 "nbformat": 4,
 "nbformat_minor": 5
}
